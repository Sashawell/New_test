{
 "cells": [
  {
   "cell_type": "markdown",
   "id": "a90ecb84-4469-4d32-8fc6-cad6ce719360",
   "metadata": {},
   "source": [
    "# ТЗ "
   ]
  },
  {
   "cell_type": "markdown",
   "id": "8e094613-e188-4db9-91b4-2b9d0784eb6e",
   "metadata": {},
   "source": [
    "eid - id группы событий (показа и клика к нему) \n",
    "t - время \n",
    "user - id пользователя \n",
    "tn - тип события \n",
    "geo -  id региона \n",
    "cnethash - хеш от сети класса С, к которой принадлежит ip пользователя\n",
    "devtype - тип устройства\n",
    "brotype - тип браузера\n",
    "bsize - id размера банера\n",
    "siteid - id канала поставщика трафика\n",
    "domhash - хеш от домена\n",
    "urlhash - хеш от урла\n",
    "\n",
    "В файле данные по одной рекламной кампании. Каждая строка - это клик (tn=1) или показ (tn=0). \n",
    "В кампании было накручено много кликов, не являющихся кликами реальных пользователей, осознанно кликавших по рекламе. \n",
    "Необходимо выявить такие клики любым удобным способом и составить краткое резюме проделанной работы с объяснением критериев выбора.\n",
    "При возникновении вопросов относительно данных или выполнения задачи, пишите их контактному лицу по вакансии."
   ]
  },
  {
   "cell_type": "code",
   "execution_count": null,
   "id": "325610ef-4404-4943-8d76-2d53f3a7ecc2",
   "metadata": {},
   "outputs": [],
   "source": [
    "\n",
    "\n"
   ]
  },
  {
   "cell_type": "markdown",
   "id": "91787c1a-56a5-4b82-8f38-b467900990b2",
   "metadata": {},
   "source": [
    "# Как мы можем понять, что клик накручен? \n",
    "### 1 Мы пользователю показываем рекламу и он всегда на нее нажимает или почти всегда (данный показатель можно даже в процентах посчитать) ВАЖНО!\n",
    "### 2 Когда один и тот же пользователь кликает на банеры из разных регионов (сам по себе этот фактор не страшен, особенно сейчас, когда все используюв vpn, прокси и тд, но если этот фактор коррелирует тесно с Кол-вом кликов на банеры и тд, то можно начать подозревать данного юзера) НЕ ОСОБО ВАЖНО!\n",
    "### 3 Клики от юзера приходят в одно и тоже время, или очень маленький промежуток ВАЖНО!\n",
    "### 4 Я бы еще посмотрел на geo, если большая часть кликов приходит с одного гео, это повод задуматься ВАЖНО!\n",
    "### 5 Я бы еще посмотрел на chethash, если большая часть кликов приходит с одного chethash, это тоже странно, возможно это прокси ВАЖНО!\n",
    "### 6 siteid, если подумать логически, то поставщику трафика как бы выгодно давать нам ботов, чтобы мы смотрели на высокий уровень конверсии и с радостью заказывали трафик у этого поставщика, поэтому я бы также посмотрел на данный фактор ВАЖНО!\n",
    "### 7 Такая же логика и для домена ВАЖНО!"
   ]
  },
  {
   "cell_type": "code",
   "execution_count": 71,
   "id": "9c00e3c3-d32d-45c8-93df-dd73a2ce1606",
   "metadata": {},
   "outputs": [],
   "source": [
    "import pandas as pd \n",
    "import numpy as np\n",
    "import seaborn as sns\n",
    "from tqdm.notebook import tqdm\n",
    "import matplotlib.pyplot as plt \n",
    "from statsmodels.distributions.empirical_distribution import ECDF\n",
    "\n"
   ]
  },
  {
   "cell_type": "markdown",
   "id": "5820f602-21a2-4aab-8376-464b5cb4a7b5",
   "metadata": {},
   "source": [
    "# Считываем файл "
   ]
  },
  {
   "cell_type": "code",
   "execution_count": 72,
   "id": "9c90340e-73f9-4f17-a692-9c1f45463761",
   "metadata": {},
   "outputs": [],
   "source": [
    "df = pd.read_csv(r\"C:\\Users\\Sasha\\OneDrive\\Рабочий стол\\тестовое младший аналитик\\test_data.tsv\", sep = \"\\t\")"
   ]
  },
  {
   "cell_type": "code",
   "execution_count": 73,
   "id": "8106e4f5-7b65-425c-8310-e45286bac555",
   "metadata": {},
   "outputs": [
    {
     "data": {
      "text/html": [
       "<div>\n",
       "<style scoped>\n",
       "    .dataframe tbody tr th:only-of-type {\n",
       "        vertical-align: middle;\n",
       "    }\n",
       "\n",
       "    .dataframe tbody tr th {\n",
       "        vertical-align: top;\n",
       "    }\n",
       "\n",
       "    .dataframe thead th {\n",
       "        text-align: right;\n",
       "    }\n",
       "</style>\n",
       "<table border=\"1\" class=\"dataframe\">\n",
       "  <thead>\n",
       "    <tr style=\"text-align: right;\">\n",
       "      <th></th>\n",
       "      <th>eid</th>\n",
       "      <th>t</th>\n",
       "      <th>user</th>\n",
       "      <th>tn</th>\n",
       "      <th>geo</th>\n",
       "      <th>cnethash</th>\n",
       "      <th>devtype</th>\n",
       "      <th>brotype</th>\n",
       "      <th>bsize</th>\n",
       "      <th>siteid</th>\n",
       "      <th>domhash</th>\n",
       "      <th>urlhash</th>\n",
       "    </tr>\n",
       "  </thead>\n",
       "  <tbody>\n",
       "    <tr>\n",
       "      <th>0</th>\n",
       "      <td>347854231724</td>\n",
       "      <td>1050848</td>\n",
       "      <td>21</td>\n",
       "      <td>0</td>\n",
       "      <td>3818162082</td>\n",
       "      <td>8335634595980108828</td>\n",
       "      <td>2</td>\n",
       "      <td>2</td>\n",
       "      <td>1642713892</td>\n",
       "      <td>1732823002</td>\n",
       "      <td>17261330804588317013</td>\n",
       "      <td>16521739535555380904</td>\n",
       "    </tr>\n",
       "    <tr>\n",
       "      <th>1</th>\n",
       "      <td>329455126064</td>\n",
       "      <td>694606</td>\n",
       "      <td>36</td>\n",
       "      <td>0</td>\n",
       "      <td>3818162082</td>\n",
       "      <td>2563013194488493467</td>\n",
       "      <td>3</td>\n",
       "      <td>2</td>\n",
       "      <td>2286540757</td>\n",
       "      <td>673473971</td>\n",
       "      <td>8781226038565509786</td>\n",
       "      <td>14273372146021722044</td>\n",
       "    </tr>\n",
       "  </tbody>\n",
       "</table>\n",
       "</div>"
      ],
      "text/plain": [
       "            eid        t  user  tn         geo             cnethash  devtype  \\\n",
       "0  347854231724  1050848    21   0  3818162082  8335634595980108828        2   \n",
       "1  329455126064   694606    36   0  3818162082  2563013194488493467        3   \n",
       "\n",
       "   brotype       bsize      siteid               domhash               urlhash  \n",
       "0        2  1642713892  1732823002  17261330804588317013  16521739535555380904  \n",
       "1        2  2286540757   673473971   8781226038565509786  14273372146021722044  "
      ]
     },
     "execution_count": 73,
     "metadata": {},
     "output_type": "execute_result"
    }
   ],
   "source": [
    "df.head(2)"
   ]
  },
  {
   "cell_type": "markdown",
   "id": "f61b1259-735b-4095-9ceb-35a26e71c51c",
   "metadata": {},
   "source": [
    "# Перед тем как начать работу непосредственно с ТЗ, я хочу немного познакомиться с данными (провести развыдывательный анализ)"
   ]
  },
  {
   "cell_type": "code",
   "execution_count": 74,
   "id": "71b24df5-7926-4a7d-adb2-b82036490420",
   "metadata": {},
   "outputs": [
    {
     "name": "stdout",
     "output_type": "stream",
     "text": [
      "<class 'pandas.core.frame.DataFrame'>\n",
      "RangeIndex: 48672 entries, 0 to 48671\n",
      "Data columns (total 12 columns):\n",
      " #   Column    Non-Null Count  Dtype \n",
      "---  ------    --------------  ----- \n",
      " 0   eid       48672 non-null  int64 \n",
      " 1   t         48672 non-null  int64 \n",
      " 2   user      48672 non-null  int64 \n",
      " 3   tn        48672 non-null  int64 \n",
      " 4   geo       48672 non-null  int64 \n",
      " 5   cnethash  48672 non-null  uint64\n",
      " 6   devtype   48672 non-null  int64 \n",
      " 7   brotype   48672 non-null  int64 \n",
      " 8   bsize     48672 non-null  int64 \n",
      " 9   siteid    48672 non-null  int64 \n",
      " 10  domhash   48672 non-null  uint64\n",
      " 11  urlhash   48672 non-null  uint64\n",
      "dtypes: int64(9), uint64(3)\n",
      "memory usage: 4.5 MB\n"
     ]
    }
   ],
   "source": [
    "df.info()"
   ]
  },
  {
   "cell_type": "markdown",
   "id": "4c2f4107-27d4-48c3-9ed4-3ef037e6f240",
   "metadata": {},
   "source": [
    "### Сразу заметим что все данные в таблице заполнены и не встречается null значений, плюс нам не нужно менять формат у столбцов, что также упрощает задачу, проверим теперь дубликаты "
   ]
  },
  {
   "cell_type": "code",
   "execution_count": 75,
   "id": "ae10819c-297e-4ecc-8a9b-0182da338105",
   "metadata": {},
   "outputs": [
    {
     "data": {
      "text/html": [
       "<div>\n",
       "<style scoped>\n",
       "    .dataframe tbody tr th:only-of-type {\n",
       "        vertical-align: middle;\n",
       "    }\n",
       "\n",
       "    .dataframe tbody tr th {\n",
       "        vertical-align: top;\n",
       "    }\n",
       "\n",
       "    .dataframe thead th {\n",
       "        text-align: right;\n",
       "    }\n",
       "</style>\n",
       "<table border=\"1\" class=\"dataframe\">\n",
       "  <thead>\n",
       "    <tr style=\"text-align: right;\">\n",
       "      <th></th>\n",
       "      <th>eid</th>\n",
       "      <th>t</th>\n",
       "      <th>user</th>\n",
       "      <th>tn</th>\n",
       "      <th>geo</th>\n",
       "      <th>cnethash</th>\n",
       "      <th>devtype</th>\n",
       "      <th>brotype</th>\n",
       "      <th>bsize</th>\n",
       "      <th>siteid</th>\n",
       "      <th>domhash</th>\n",
       "      <th>urlhash</th>\n",
       "    </tr>\n",
       "  </thead>\n",
       "  <tbody>\n",
       "  </tbody>\n",
       "</table>\n",
       "</div>"
      ],
      "text/plain": [
       "Empty DataFrame\n",
       "Columns: [eid, t, user, tn, geo, cnethash, devtype, brotype, bsize, siteid, domhash, urlhash]\n",
       "Index: []"
      ]
     },
     "execution_count": 75,
     "metadata": {},
     "output_type": "execute_result"
    }
   ],
   "source": [
    "# Проверяем дубли по всей таблице \n",
    "df[df.duplicated(keep=False)]"
   ]
  },
  {
   "cell_type": "code",
   "execution_count": 76,
   "id": "1c1b80ab-9f49-4d68-827f-323afd9e6200",
   "metadata": {},
   "outputs": [
    {
     "data": {
      "text/html": [
       "<div>\n",
       "<style scoped>\n",
       "    .dataframe tbody tr th:only-of-type {\n",
       "        vertical-align: middle;\n",
       "    }\n",
       "\n",
       "    .dataframe tbody tr th {\n",
       "        vertical-align: top;\n",
       "    }\n",
       "\n",
       "    .dataframe thead th {\n",
       "        text-align: right;\n",
       "    }\n",
       "</style>\n",
       "<table border=\"1\" class=\"dataframe\">\n",
       "  <thead>\n",
       "    <tr style=\"text-align: right;\">\n",
       "      <th></th>\n",
       "      <th>eid</th>\n",
       "      <th>t</th>\n",
       "      <th>user</th>\n",
       "      <th>tn</th>\n",
       "      <th>geo</th>\n",
       "      <th>cnethash</th>\n",
       "      <th>devtype</th>\n",
       "      <th>brotype</th>\n",
       "      <th>bsize</th>\n",
       "      <th>siteid</th>\n",
       "      <th>domhash</th>\n",
       "      <th>urlhash</th>\n",
       "    </tr>\n",
       "  </thead>\n",
       "  <tbody>\n",
       "    <tr>\n",
       "      <th>2</th>\n",
       "      <td>329455254926</td>\n",
       "      <td>694659</td>\n",
       "      <td>36</td>\n",
       "      <td>0</td>\n",
       "      <td>3818162082</td>\n",
       "      <td>2563013194488493467</td>\n",
       "      <td>3</td>\n",
       "      <td>2</td>\n",
       "      <td>2286540757</td>\n",
       "      <td>673473971</td>\n",
       "      <td>8781226038565509786</td>\n",
       "      <td>14273372146021722044</td>\n",
       "    </tr>\n",
       "    <tr>\n",
       "      <th>3</th>\n",
       "      <td>329455273798</td>\n",
       "      <td>694596</td>\n",
       "      <td>36</td>\n",
       "      <td>0</td>\n",
       "      <td>3818162082</td>\n",
       "      <td>2563013194488493467</td>\n",
       "      <td>3</td>\n",
       "      <td>2</td>\n",
       "      <td>3529439892</td>\n",
       "      <td>673473971</td>\n",
       "      <td>8781226038565509786</td>\n",
       "      <td>14273372146021722044</td>\n",
       "    </tr>\n",
       "    <tr>\n",
       "      <th>4</th>\n",
       "      <td>329455293738</td>\n",
       "      <td>694608</td>\n",
       "      <td>36</td>\n",
       "      <td>0</td>\n",
       "      <td>3818162082</td>\n",
       "      <td>2563013194488493467</td>\n",
       "      <td>3</td>\n",
       "      <td>2</td>\n",
       "      <td>390304810</td>\n",
       "      <td>673473971</td>\n",
       "      <td>8781226038565509786</td>\n",
       "      <td>14273372146021722044</td>\n",
       "    </tr>\n",
       "    <tr>\n",
       "      <th>8</th>\n",
       "      <td>320411433357</td>\n",
       "      <td>515262</td>\n",
       "      <td>148</td>\n",
       "      <td>0</td>\n",
       "      <td>3864597734</td>\n",
       "      <td>9857242284640379126</td>\n",
       "      <td>3</td>\n",
       "      <td>9</td>\n",
       "      <td>3529439892</td>\n",
       "      <td>3312146801</td>\n",
       "      <td>15469158373442651496</td>\n",
       "      <td>18110395686207991474</td>\n",
       "    </tr>\n",
       "    <tr>\n",
       "      <th>10</th>\n",
       "      <td>297366904396</td>\n",
       "      <td>16309</td>\n",
       "      <td>162</td>\n",
       "      <td>0</td>\n",
       "      <td>2169085419</td>\n",
       "      <td>8888378963647691173</td>\n",
       "      <td>3</td>\n",
       "      <td>2</td>\n",
       "      <td>4059410016</td>\n",
       "      <td>2854608146</td>\n",
       "      <td>12397643822621642061</td>\n",
       "      <td>17247241689397869523</td>\n",
       "    </tr>\n",
       "    <tr>\n",
       "      <th>...</th>\n",
       "      <td>...</td>\n",
       "      <td>...</td>\n",
       "      <td>...</td>\n",
       "      <td>...</td>\n",
       "      <td>...</td>\n",
       "      <td>...</td>\n",
       "      <td>...</td>\n",
       "      <td>...</td>\n",
       "      <td>...</td>\n",
       "      <td>...</td>\n",
       "      <td>...</td>\n",
       "      <td>...</td>\n",
       "    </tr>\n",
       "    <tr>\n",
       "      <th>48663</th>\n",
       "      <td>344718117547</td>\n",
       "      <td>980909</td>\n",
       "      <td>99892</td>\n",
       "      <td>0</td>\n",
       "      <td>239476928</td>\n",
       "      <td>17923180725687075424</td>\n",
       "      <td>2</td>\n",
       "      <td>2</td>\n",
       "      <td>4059410016</td>\n",
       "      <td>1732823002</td>\n",
       "      <td>8226252734070597606</td>\n",
       "      <td>501443720760815850</td>\n",
       "    </tr>\n",
       "    <tr>\n",
       "      <th>48665</th>\n",
       "      <td>4022514261</td>\n",
       "      <td>100107</td>\n",
       "      <td>99952</td>\n",
       "      <td>0</td>\n",
       "      <td>3954886488</td>\n",
       "      <td>15378092533632864638</td>\n",
       "      <td>2</td>\n",
       "      <td>2</td>\n",
       "      <td>390304810</td>\n",
       "      <td>1732823002</td>\n",
       "      <td>8417199575432949344</td>\n",
       "      <td>6470467525884367406</td>\n",
       "    </tr>\n",
       "    <tr>\n",
       "      <th>48666</th>\n",
       "      <td>4023395323</td>\n",
       "      <td>100124</td>\n",
       "      <td>99952</td>\n",
       "      <td>0</td>\n",
       "      <td>3954886488</td>\n",
       "      <td>15378092533632864638</td>\n",
       "      <td>2</td>\n",
       "      <td>2</td>\n",
       "      <td>390304810</td>\n",
       "      <td>1732823002</td>\n",
       "      <td>8417199575432949344</td>\n",
       "      <td>6470467525884367406</td>\n",
       "    </tr>\n",
       "    <tr>\n",
       "      <th>48670</th>\n",
       "      <td>323106589352</td>\n",
       "      <td>557496</td>\n",
       "      <td>99995</td>\n",
       "      <td>0</td>\n",
       "      <td>2960729952</td>\n",
       "      <td>15043720182730569642</td>\n",
       "      <td>3</td>\n",
       "      <td>2</td>\n",
       "      <td>3529439892</td>\n",
       "      <td>673473971</td>\n",
       "      <td>17190617809738632834</td>\n",
       "      <td>17743323135665871600</td>\n",
       "    </tr>\n",
       "    <tr>\n",
       "      <th>48671</th>\n",
       "      <td>323106603692</td>\n",
       "      <td>557499</td>\n",
       "      <td>99995</td>\n",
       "      <td>0</td>\n",
       "      <td>2960729952</td>\n",
       "      <td>15043720182730569642</td>\n",
       "      <td>3</td>\n",
       "      <td>2</td>\n",
       "      <td>390304810</td>\n",
       "      <td>673473971</td>\n",
       "      <td>17190617809738632834</td>\n",
       "      <td>17743323135665871600</td>\n",
       "    </tr>\n",
       "  </tbody>\n",
       "</table>\n",
       "<p>44251 rows × 12 columns</p>\n",
       "</div>"
      ],
      "text/plain": [
       "                eid       t   user  tn         geo              cnethash  \\\n",
       "2      329455254926  694659     36   0  3818162082   2563013194488493467   \n",
       "3      329455273798  694596     36   0  3818162082   2563013194488493467   \n",
       "4      329455293738  694608     36   0  3818162082   2563013194488493467   \n",
       "8      320411433357  515262    148   0  3864597734   9857242284640379126   \n",
       "10     297366904396   16309    162   0  2169085419   8888378963647691173   \n",
       "...             ...     ...    ...  ..         ...                   ...   \n",
       "48663  344718117547  980909  99892   0   239476928  17923180725687075424   \n",
       "48665    4022514261  100107  99952   0  3954886488  15378092533632864638   \n",
       "48666    4023395323  100124  99952   0  3954886488  15378092533632864638   \n",
       "48670  323106589352  557496  99995   0  2960729952  15043720182730569642   \n",
       "48671  323106603692  557499  99995   0  2960729952  15043720182730569642   \n",
       "\n",
       "       devtype  brotype       bsize      siteid               domhash  \\\n",
       "2            3        2  2286540757   673473971   8781226038565509786   \n",
       "3            3        2  3529439892   673473971   8781226038565509786   \n",
       "4            3        2   390304810   673473971   8781226038565509786   \n",
       "8            3        9  3529439892  3312146801  15469158373442651496   \n",
       "10           3        2  4059410016  2854608146  12397643822621642061   \n",
       "...        ...      ...         ...         ...                   ...   \n",
       "48663        2        2  4059410016  1732823002   8226252734070597606   \n",
       "48665        2        2   390304810  1732823002   8417199575432949344   \n",
       "48666        2        2   390304810  1732823002   8417199575432949344   \n",
       "48670        3        2  3529439892   673473971  17190617809738632834   \n",
       "48671        3        2   390304810   673473971  17190617809738632834   \n",
       "\n",
       "                    urlhash  \n",
       "2      14273372146021722044  \n",
       "3      14273372146021722044  \n",
       "4      14273372146021722044  \n",
       "8      18110395686207991474  \n",
       "10     17247241689397869523  \n",
       "...                     ...  \n",
       "48663    501443720760815850  \n",
       "48665   6470467525884367406  \n",
       "48666   6470467525884367406  \n",
       "48670  17743323135665871600  \n",
       "48671  17743323135665871600  \n",
       "\n",
       "[44251 rows x 12 columns]"
      ]
     },
     "execution_count": 76,
     "metadata": {},
     "output_type": "execute_result"
    }
   ],
   "source": [
    "# Посмотрим дубли по юзерам\n",
    "df[df.duplicated(subset='user')]"
   ]
  },
  {
   "cell_type": "markdown",
   "id": "00105ce1-eeed-4ce4-8a51-b3bd059ffdfa",
   "metadata": {},
   "source": [
    "### Делаем вывод что у нас либо есть база юзеров, которым мы показываем нашу рекламу, либо юзер заходя на наш сайт, видит сразу несколько рекламных постов нашего агенства \n",
    "### Посмотрим, сколько у нас уникальных юзеров тогда "
   ]
  },
  {
   "cell_type": "code",
   "execution_count": 77,
   "id": "f14324f5-365f-4a1d-923c-7b3a2a4968f4",
   "metadata": {},
   "outputs": [
    {
     "data": {
      "text/plain": [
       "4421"
      ]
     },
     "execution_count": 77,
     "metadata": {},
     "output_type": "execute_result"
    }
   ],
   "source": [
    "df.user.nunique()"
   ]
  },
  {
   "cell_type": "markdown",
   "id": "00304b9f-eaad-42f8-9808-9b928f0a73b3",
   "metadata": {},
   "source": [
    "### Еще интересно посмотреть процентное соотношение того, сколько у нас конверсия, с учетом того, что была накрутка"
   ]
  },
  {
   "cell_type": "code",
   "execution_count": 78,
   "id": "55444734-ddf2-483d-b28d-d0b9e8e393a5",
   "metadata": {},
   "outputs": [
    {
     "data": {
      "text/plain": [
       "tn\n",
       "0    0.968216\n",
       "1    0.031784\n",
       "Name: proportion, dtype: float64"
      ]
     },
     "execution_count": 78,
     "metadata": {},
     "output_type": "execute_result"
    }
   ],
   "source": [
    "df.tn.value_counts(normalize = True)"
   ]
  },
  {
   "cell_type": "markdown",
   "id": "d92428da-cd3c-4a25-a7e0-8cfa557937c6",
   "metadata": {},
   "source": [
    "# Окей, мы видим, что конверсия 3,18%, теперь наша задача понять, как из этиъ 3,18% выявить накрученные клики "
   ]
  },
  {
   "cell_type": "code",
   "execution_count": 79,
   "id": "0f03a8f8-0ca6-42d4-8988-d19164cc2533",
   "metadata": {},
   "outputs": [],
   "source": [
    "# Возьмем только данные, где каждая строка содержит клик\n",
    "df_1 = df[df.tn == 1]"
   ]
  },
  {
   "cell_type": "markdown",
   "id": "18de6cab-43cc-499d-a4df-3423217b6bb2",
   "metadata": {},
   "source": [
    "# Начнем работу"
   ]
  },
  {
   "cell_type": "markdown",
   "id": "88c989ab-6fab-4d97-89e1-e76c75180d44",
   "metadata": {},
   "source": [
    "# Кол-во кликов по юзеру деленное на общее число показов "
   ]
  },
  {
   "cell_type": "code",
   "execution_count": 80,
   "id": "39ae3357-c1dc-447f-8962-6dcf6dff978c",
   "metadata": {},
   "outputs": [
    {
     "data": {
      "text/plain": [
       "0       1\n",
       "1       3\n",
       "2       3\n",
       "3       3\n",
       "4       1\n",
       "       ..\n",
       "1542    2\n",
       "1543    2\n",
       "1544    1\n",
       "1545    1\n",
       "1546    1\n",
       "Name: click_advert, Length: 1547, dtype: int64"
      ]
     },
     "execution_count": 80,
     "metadata": {},
     "output_type": "execute_result"
    }
   ],
   "source": [
    "click_times = df_1.groupby(df.user)['tn'].count().sort_values(ascending=False).reset_index(name='click_advert')\n",
    "\n",
    "df_1 = df_1.merge(right = click_times, on = \"user\", how = \"left\")\n",
    "df_1.click_advert.fillna(0)"
   ]
  },
  {
   "cell_type": "code",
   "execution_count": 81,
   "id": "02237ba6-8812-401e-b1ee-308279e8aeba",
   "metadata": {},
   "outputs": [],
   "source": [
    "show_times = df.groupby(df.user)['tn'].count().sort_values(ascending=False).reset_index(name='show_cnt')"
   ]
  },
  {
   "cell_type": "code",
   "execution_count": 82,
   "id": "56c588dd-ca72-4c1c-b42c-31a2c2882f2b",
   "metadata": {},
   "outputs": [
    {
     "data": {
      "text/plain": [
       "0        3\n",
       "1       24\n",
       "2       24\n",
       "3       24\n",
       "4       15\n",
       "        ..\n",
       "1542    34\n",
       "1543    34\n",
       "1544     8\n",
       "1545     2\n",
       "1546     3\n",
       "Name: show_cnt, Length: 1547, dtype: int64"
      ]
     },
     "execution_count": 82,
     "metadata": {},
     "output_type": "execute_result"
    }
   ],
   "source": [
    "# Сразу добавим эту колоку в таблицу\n",
    "df_1 = df_1.merge(right = show_times, on = \"user\", how = \"left\")\n",
    "df_1.show_cnt.fillna(1)"
   ]
  },
  {
   "cell_type": "code",
   "execution_count": 83,
   "id": "8de3f3b1-8826-4871-be16-122e09b70a47",
   "metadata": {},
   "outputs": [
    {
     "data": {
      "text/html": [
       "<div>\n",
       "<style scoped>\n",
       "    .dataframe tbody tr th:only-of-type {\n",
       "        vertical-align: middle;\n",
       "    }\n",
       "\n",
       "    .dataframe tbody tr th {\n",
       "        vertical-align: top;\n",
       "    }\n",
       "\n",
       "    .dataframe thead th {\n",
       "        text-align: right;\n",
       "    }\n",
       "</style>\n",
       "<table border=\"1\" class=\"dataframe\">\n",
       "  <thead>\n",
       "    <tr style=\"text-align: right;\">\n",
       "      <th></th>\n",
       "      <th>user</th>\n",
       "      <th>click_advert</th>\n",
       "      <th>show_cnt</th>\n",
       "    </tr>\n",
       "  </thead>\n",
       "  <tbody>\n",
       "    <tr>\n",
       "      <th>0</th>\n",
       "      <td>29537</td>\n",
       "      <td>47</td>\n",
       "      <td>479</td>\n",
       "    </tr>\n",
       "    <tr>\n",
       "      <th>1</th>\n",
       "      <td>4016</td>\n",
       "      <td>34</td>\n",
       "      <td>1219</td>\n",
       "    </tr>\n",
       "    <tr>\n",
       "      <th>2</th>\n",
       "      <td>16618</td>\n",
       "      <td>32</td>\n",
       "      <td>325</td>\n",
       "    </tr>\n",
       "    <tr>\n",
       "      <th>3</th>\n",
       "      <td>32449</td>\n",
       "      <td>32</td>\n",
       "      <td>339</td>\n",
       "    </tr>\n",
       "    <tr>\n",
       "      <th>4</th>\n",
       "      <td>9471</td>\n",
       "      <td>28</td>\n",
       "      <td>279</td>\n",
       "    </tr>\n",
       "    <tr>\n",
       "      <th>...</th>\n",
       "      <td>...</td>\n",
       "      <td>...</td>\n",
       "      <td>...</td>\n",
       "    </tr>\n",
       "    <tr>\n",
       "      <th>374</th>\n",
       "      <td>99209</td>\n",
       "      <td>1</td>\n",
       "      <td>1</td>\n",
       "    </tr>\n",
       "    <tr>\n",
       "      <th>375</th>\n",
       "      <td>207</td>\n",
       "      <td>1</td>\n",
       "      <td>3</td>\n",
       "    </tr>\n",
       "    <tr>\n",
       "      <th>376</th>\n",
       "      <td>99334</td>\n",
       "      <td>1</td>\n",
       "      <td>8</td>\n",
       "    </tr>\n",
       "    <tr>\n",
       "      <th>377</th>\n",
       "      <td>99649</td>\n",
       "      <td>1</td>\n",
       "      <td>2</td>\n",
       "    </tr>\n",
       "    <tr>\n",
       "      <th>378</th>\n",
       "      <td>99725</td>\n",
       "      <td>1</td>\n",
       "      <td>3</td>\n",
       "    </tr>\n",
       "  </tbody>\n",
       "</table>\n",
       "<p>379 rows × 3 columns</p>\n",
       "</div>"
      ],
      "text/plain": [
       "      user  click_advert  show_cnt\n",
       "0    29537            47       479\n",
       "1     4016            34      1219\n",
       "2    16618            32       325\n",
       "3    32449            32       339\n",
       "4     9471            28       279\n",
       "..     ...           ...       ...\n",
       "374  99209             1         1\n",
       "375    207             1         3\n",
       "376  99334             1         8\n",
       "377  99649             1         2\n",
       "378  99725             1         3\n",
       "\n",
       "[379 rows x 3 columns]"
      ]
     },
     "execution_count": 83,
     "metadata": {},
     "output_type": "execute_result"
    }
   ],
   "source": [
    "user_metrics = click_times.merge(right=show_times, on = 'user', how = \"left\")\n",
    "user_metrics.fillna(0)"
   ]
  },
  {
   "cell_type": "code",
   "execution_count": 84,
   "id": "3d74b493-dec6-4e7f-b56b-5587c000d316",
   "metadata": {},
   "outputs": [],
   "source": [
    "user_metrics['click_rate%'] = ((user_metrics['click_advert'] / user_metrics['show_cnt']) * 100).round(2)"
   ]
  },
  {
   "cell_type": "code",
   "execution_count": 85,
   "id": "7ea80726-3112-4acb-9b77-6b270758914e",
   "metadata": {},
   "outputs": [],
   "source": [
    "df_1 = df_1.merge(right = user_metrics[[\"user\", 'click_rate%']], on = \"user\", how = \"left\")"
   ]
  },
  {
   "cell_type": "code",
   "execution_count": null,
   "id": "1f0a0943-24d3-4ce8-9b22-3286f08aa3ca",
   "metadata": {},
   "outputs": [],
   "source": [
    "\n",
    "\n",
    "\n",
    "\n"
   ]
  },
  {
   "cell_type": "markdown",
   "id": "6abda29c-5866-4db5-945a-2f3ca8206784",
   "metadata": {},
   "source": [
    "# Посмотрим на промежуток во времени, как приходят клики"
   ]
  },
  {
   "cell_type": "code",
   "execution_count": 19,
   "id": "12323199-aeb3-4140-ac13-40a9047dd382",
   "metadata": {
    "scrolled": true
   },
   "outputs": [
    {
     "name": "stderr",
     "output_type": "stream",
     "text": [
      "C:\\Users\\Sasha\\AppData\\Local\\Temp\\ipykernel_18992\\1658862467.py:2: SettingWithCopyWarning: \n",
      "A value is trying to be set on a copy of a slice from a DataFrame.\n",
      "Try using .loc[row_indexer,col_indexer] = value instead\n",
      "\n",
      "See the caveats in the documentation: https://pandas.pydata.org/pandas-docs/stable/user_guide/indexing.html#returning-a-view-versus-a-copy\n",
      "  check_time[\"converted_time\"] = pd.to_datetime(check_time.t, unit=\"ms\")\n"
     ]
    }
   ],
   "source": [
    "check_time = df_1[[\"user\", \"t\"]]\n",
    "check_time[\"converted_time\"] = pd.to_datetime(check_time.t, unit=\"ms\")"
   ]
  },
  {
   "cell_type": "markdown",
   "id": "d40a4a43-ed00-45ee-99f8-f2b129e2be38",
   "metadata": {},
   "source": [
    "### Теперь что я хочу сделать? Я хочу применить сюда оконную функцию как в SQL, я сгруппирую данные по user и отсортирую по дате, а после буду вычитать из текущего времени прошлое и тд"
   ]
  },
  {
   "cell_type": "code",
   "execution_count": 20,
   "id": "681a99d1-2da2-4cc1-8ff7-7096b12a75eb",
   "metadata": {},
   "outputs": [],
   "source": [
    "check_time = check_time.sort_values([\"user\",\"converted_time\"])\n",
    "check_time.head(2)\n",
    "check_time[\"time_diff\"] = check_time.groupby(\"user\")[\"converted_time\"].diff()"
   ]
  },
  {
   "cell_type": "markdown",
   "id": "0f4989e1-7d1c-483f-95dd-95bcadcc1ad8",
   "metadata": {},
   "source": [
    "##### Я тут понял, что зря переводил все во время, мне ж теперь самому не удобно смотреть на результаты, поэтому чтобы не изобретать велосипед, проделаем эти же шаги, но уже с t, вместо converted_time"
   ]
  },
  {
   "cell_type": "code",
   "execution_count": 21,
   "id": "e65a7dca-1d97-4e69-ae5d-c16f85d91dc0",
   "metadata": {},
   "outputs": [],
   "source": [
    "check_time = check_time.sort_values([\"user\",\"t\"])\n",
    "check_time[\"time_diff_right\"] = check_time.groupby(\"user\")[\"t\"].diff()"
   ]
  },
  {
   "cell_type": "markdown",
   "id": "e5e247a7-b7ce-4b08-b739-6193844501bd",
   "metadata": {},
   "source": [
    "## Этот результат куда лучше, теперь выберем время после которого мы будем говорить, что клик был подозрительный и это накрутка, давайте скажем, что это менее 0.5 секунд"
   ]
  },
  {
   "cell_type": "code",
   "execution_count": 22,
   "id": "165f3e8c-d21c-4073-aa63-62f6f911f290",
   "metadata": {},
   "outputs": [
    {
     "name": "stderr",
     "output_type": "stream",
     "text": [
      "C:\\Users\\Sasha\\AppData\\Local\\Temp\\ipykernel_18992\\2940199965.py:3: SettingWithCopyWarning: \n",
      "A value is trying to be set on a copy of a slice from a DataFrame\n",
      "\n",
      "See the caveats in the documentation: https://pandas.pydata.org/pandas-docs/stable/user_guide/indexing.html#returning-a-view-versus-a-copy\n",
      "  strange_time.drop_duplicates(inplace=True)\n"
     ]
    },
    {
     "data": {
      "text/plain": [
       "array([  363,  1561,  1636,  1971,  2355,  3443,  4016,  5161,  5253,\n",
       "        5274,  5999,  6886,  8665,  9471, 11209, 11323, 11783, 13191,\n",
       "       14161, 15400, 16213, 16618, 16957, 17148, 17204, 17705, 18006,\n",
       "       18870, 19764, 20966, 21667, 22111, 23031, 23344, 23536, 24354,\n",
       "       25840, 26069, 26905, 27122, 27686, 28073, 29267, 29537, 30545,\n",
       "       31483, 32324, 32449, 34125, 34170, 35173, 35721, 36431, 37453,\n",
       "       37938, 38637, 39836, 40023, 40343, 40678, 41735, 44375, 44440,\n",
       "       45726, 45811, 46768, 48658, 49610, 50036, 51247, 52185, 52865,\n",
       "       52906, 54098, 55221, 56031, 56615, 57296, 57723, 58842, 59036,\n",
       "       59373, 59605, 60464, 62291, 62888, 64280, 67198, 67263, 68001,\n",
       "       68509, 69762, 70114, 72225, 72687, 73065, 73979, 74276, 76018,\n",
       "       76300, 79089, 81793, 81949, 82226, 83186, 83725, 87326, 88570,\n",
       "       89427, 89781, 90109, 90384, 90418, 90647, 90737, 91887, 92078,\n",
       "       93035, 93673, 94245, 94894, 95041, 96440, 96619, 97629, 97935,\n",
       "       98931])"
      ]
     },
     "execution_count": 22,
     "metadata": {},
     "output_type": "execute_result"
    }
   ],
   "source": [
    "t = 0.5 # кол-во секунд\n",
    "strange_time = check_time[check_time.time_diff_right <= (t * 1000)]\n",
    "strange_time.drop_duplicates(inplace=True)\n",
    "strange_time.user.unique()"
   ]
  },
  {
   "cell_type": "code",
   "execution_count": 23,
   "id": "38f190b5-771c-45dc-aba4-f4b6b6e33296",
   "metadata": {},
   "outputs": [],
   "source": [
    "check_time[\"flag_time\"] = check_time.user.isin(strange_time.user).astype(int)\n",
    "check_time[\"flag_time\"] = check_time.flag_time.fillna(0)"
   ]
  },
  {
   "cell_type": "code",
   "execution_count": 24,
   "id": "2b0248b9-950a-40e1-8aa6-5541d0bd38ad",
   "metadata": {},
   "outputs": [],
   "source": [
    "# И сразу уберем дубли отсюда \n",
    "check_time[check_time.duplicated()]\n",
    "check_time.drop_duplicates(inplace = True)"
   ]
  },
  {
   "cell_type": "code",
   "execution_count": 25,
   "id": "80419fec-1404-4e8a-b8b2-74faee32a76a",
   "metadata": {},
   "outputs": [],
   "source": [
    "f = check_time[\"user\"].unique()"
   ]
  },
  {
   "cell_type": "code",
   "execution_count": 26,
   "id": "33abe50a-0ba7-4def-9169-33970b070c9f",
   "metadata": {},
   "outputs": [],
   "source": [
    "df_1['flag_time'] = df_1.user.isin(f).astype(int)\n",
    "df_1['flag_time'] = df_1.flag_time.fillna(0)"
   ]
  },
  {
   "cell_type": "code",
   "execution_count": null,
   "id": "83b49301-87d7-4cf2-a3ff-4a71e7c34506",
   "metadata": {},
   "outputs": [],
   "source": [
    "\n",
    "\n",
    "\n"
   ]
  },
  {
   "cell_type": "markdown",
   "id": "0bd8a0b6-b31c-4f7c-b61a-a0d06f1e9618",
   "metadata": {},
   "source": [
    "# Проверим geo по юзерам, кто часто кликал на банеры "
   ]
  },
  {
   "cell_type": "code",
   "execution_count": 27,
   "id": "eac9bf6a-1e04-4f83-a62c-236a66c77209",
   "metadata": {},
   "outputs": [],
   "source": [
    "t = df_1.value_counts(subset = \"geo\").reset_index(name = \"geo_proportions\")"
   ]
  },
  {
   "cell_type": "markdown",
   "id": "0d10c582-cb1f-4243-a6e6-5962984ce3a7",
   "metadata": {},
   "source": [
    "### Отсюда можно начать делать поспешный вывод о том, что много подозрительной активности идет из определенных регионов, значит нужно к трафику оттуда относиться с осторожностью. Это в целом правильный ход, но перед этим, нам нужно проверить процентное соотношение, сколько трафика с этих регионов пришло, и сколько мы подкрасили как подозрительный"
   ]
  },
  {
   "cell_type": "code",
   "execution_count": 28,
   "id": "b1eeebdf-3d03-4a51-91ee-8c4704dab225",
   "metadata": {},
   "outputs": [],
   "source": [
    "f = df[df.tn == 0]"
   ]
  },
  {
   "cell_type": "code",
   "execution_count": 29,
   "id": "55e520cd-e5b1-4a2b-bebc-62a287f08a8c",
   "metadata": {},
   "outputs": [],
   "source": [
    "f = f.value_counts(subset = \"geo\").reset_index(name = \"geo_0\")"
   ]
  },
  {
   "cell_type": "code",
   "execution_count": 30,
   "id": "0b13cd08-6776-42f3-badd-ca415b1015a4",
   "metadata": {},
   "outputs": [],
   "source": [
    "t = t.merge(right = f, on = \"geo\", how = \"inner\")"
   ]
  },
  {
   "cell_type": "code",
   "execution_count": 31,
   "id": "1bbedc06-eee0-4950-9305-0f2c9d84e8ea",
   "metadata": {},
   "outputs": [],
   "source": [
    "# И теперь также давайте сделаем рейтинг по geo\n",
    "t[\"geo_suspicious_per\"] = t[\"geo_proportions\"] / t[\"geo_0\"]"
   ]
  },
  {
   "cell_type": "code",
   "execution_count": 32,
   "id": "b9278717-a11c-4097-87e2-fec8ec735420",
   "metadata": {},
   "outputs": [
    {
     "data": {
      "text/html": [
       "<div>\n",
       "<style scoped>\n",
       "    .dataframe tbody tr th:only-of-type {\n",
       "        vertical-align: middle;\n",
       "    }\n",
       "\n",
       "    .dataframe tbody tr th {\n",
       "        vertical-align: top;\n",
       "    }\n",
       "\n",
       "    .dataframe thead th {\n",
       "        text-align: right;\n",
       "    }\n",
       "</style>\n",
       "<table border=\"1\" class=\"dataframe\">\n",
       "  <thead>\n",
       "    <tr style=\"text-align: right;\">\n",
       "      <th></th>\n",
       "      <th>geo</th>\n",
       "      <th>geo_proportions</th>\n",
       "      <th>geo_0</th>\n",
       "      <th>geo_suspicious_per</th>\n",
       "    </tr>\n",
       "  </thead>\n",
       "  <tbody>\n",
       "    <tr>\n",
       "      <th>49</th>\n",
       "      <td>2972730849</td>\n",
       "      <td>3</td>\n",
       "      <td>12</td>\n",
       "      <td>0.250000</td>\n",
       "    </tr>\n",
       "    <tr>\n",
       "      <th>45</th>\n",
       "      <td>1260189617</td>\n",
       "      <td>3</td>\n",
       "      <td>14</td>\n",
       "      <td>0.214286</td>\n",
       "    </tr>\n",
       "    <tr>\n",
       "      <th>34</th>\n",
       "      <td>3330446895</td>\n",
       "      <td>11</td>\n",
       "      <td>99</td>\n",
       "      <td>0.111111</td>\n",
       "    </tr>\n",
       "    <tr>\n",
       "      <th>17</th>\n",
       "      <td>1683184212</td>\n",
       "      <td>29</td>\n",
       "      <td>285</td>\n",
       "      <td>0.101754</td>\n",
       "    </tr>\n",
       "    <tr>\n",
       "      <th>37</th>\n",
       "      <td>460904980</td>\n",
       "      <td>5</td>\n",
       "      <td>55</td>\n",
       "      <td>0.090909</td>\n",
       "    </tr>\n",
       "    <tr>\n",
       "      <th>...</th>\n",
       "      <td>...</td>\n",
       "      <td>...</td>\n",
       "      <td>...</td>\n",
       "      <td>...</td>\n",
       "    </tr>\n",
       "    <tr>\n",
       "      <th>48</th>\n",
       "      <td>1642713892</td>\n",
       "      <td>3</td>\n",
       "      <td>235</td>\n",
       "      <td>0.012766</td>\n",
       "    </tr>\n",
       "    <tr>\n",
       "      <th>50</th>\n",
       "      <td>290091958</td>\n",
       "      <td>2</td>\n",
       "      <td>192</td>\n",
       "      <td>0.010417</td>\n",
       "    </tr>\n",
       "    <tr>\n",
       "      <th>55</th>\n",
       "      <td>3507599847</td>\n",
       "      <td>2</td>\n",
       "      <td>200</td>\n",
       "      <td>0.010000</td>\n",
       "    </tr>\n",
       "    <tr>\n",
       "      <th>56</th>\n",
       "      <td>2862123161</td>\n",
       "      <td>2</td>\n",
       "      <td>215</td>\n",
       "      <td>0.009302</td>\n",
       "    </tr>\n",
       "    <tr>\n",
       "      <th>60</th>\n",
       "      <td>3714251026</td>\n",
       "      <td>1</td>\n",
       "      <td>108</td>\n",
       "      <td>0.009259</td>\n",
       "    </tr>\n",
       "  </tbody>\n",
       "</table>\n",
       "<p>62 rows × 4 columns</p>\n",
       "</div>"
      ],
      "text/plain": [
       "           geo  geo_proportions  geo_0  geo_suspicious_per\n",
       "49  2972730849                3     12            0.250000\n",
       "45  1260189617                3     14            0.214286\n",
       "34  3330446895               11     99            0.111111\n",
       "17  1683184212               29    285            0.101754\n",
       "37   460904980                5     55            0.090909\n",
       "..         ...              ...    ...                 ...\n",
       "48  1642713892                3    235            0.012766\n",
       "50   290091958                2    192            0.010417\n",
       "55  3507599847                2    200            0.010000\n",
       "56  2862123161                2    215            0.009302\n",
       "60  3714251026                1    108            0.009259\n",
       "\n",
       "[62 rows x 4 columns]"
      ]
     },
     "execution_count": 32,
     "metadata": {},
     "output_type": "execute_result"
    }
   ],
   "source": [
    "t.sort_values(by = \"geo_suspicious_per\", ascending=False)"
   ]
  },
  {
   "cell_type": "code",
   "execution_count": 33,
   "id": "0c8876ca-fed3-4df2-af94-37aef1ebfeb3",
   "metadata": {},
   "outputs": [
    {
     "data": {
      "text/plain": [
       "0       0.024855\n",
       "1       0.062257\n",
       "2       0.062257\n",
       "3       0.062257\n",
       "4       0.048319\n",
       "          ...   \n",
       "1542    0.044444\n",
       "1543    0.044444\n",
       "1544    0.045455\n",
       "1545    0.025636\n",
       "1546    0.030459\n",
       "Name: geo_suspicious_per, Length: 1547, dtype: float64"
      ]
     },
     "execution_count": 33,
     "metadata": {},
     "output_type": "execute_result"
    }
   ],
   "source": [
    "df_1 = df_1.merge(right = t[[\"geo\", \"geo_suspicious_per\"]], on = \"geo\", how = \"inner\")\n",
    "df_1.geo_suspicious_per.fillna(0)"
   ]
  },
  {
   "cell_type": "code",
   "execution_count": null,
   "id": "c85ce4fd-116f-4fa0-abc0-215d2f900c5c",
   "metadata": {},
   "outputs": [],
   "source": [
    "\n",
    "\n",
    "\n"
   ]
  },
  {
   "cell_type": "markdown",
   "id": "08e1a573-4293-4307-b116-ac9b080a6e10",
   "metadata": {},
   "source": [
    "# Смотрим на chethash"
   ]
  },
  {
   "cell_type": "code",
   "execution_count": 34,
   "id": "c7390d4e-96ea-4295-bae6-17ba8cf7c87c",
   "metadata": {},
   "outputs": [],
   "source": [
    "d = df_1.value_counts(subset = \"cnethash\").reset_index(name = \"chethash_proportions\")"
   ]
  },
  {
   "cell_type": "markdown",
   "id": "c6b7f15f-0f6e-4e88-b839-5bc19f1c1c24",
   "metadata": {},
   "source": [
    "# Опять же, будем сравнивать в процентном соотношении"
   ]
  },
  {
   "cell_type": "code",
   "execution_count": 35,
   "id": "d4c38731-8794-4950-a95f-dedccec8c7f3",
   "metadata": {},
   "outputs": [],
   "source": [
    "f = df[df.tn == 0]"
   ]
  },
  {
   "cell_type": "code",
   "execution_count": 36,
   "id": "cd806ef8-d016-473e-8095-6a9eaacbff6e",
   "metadata": {},
   "outputs": [],
   "source": [
    "f = f.value_counts(subset=\"cnethash\").reset_index(name = \"cnethash_0\")"
   ]
  },
  {
   "cell_type": "code",
   "execution_count": 37,
   "id": "72536d14-1230-4469-8c1d-e2f848423676",
   "metadata": {},
   "outputs": [],
   "source": [
    "d = d.merge(right = f, on = \"cnethash\", how = \"inner\")"
   ]
  },
  {
   "cell_type": "code",
   "execution_count": 38,
   "id": "9c24c4e6-5d52-47e5-90ca-00905c1da091",
   "metadata": {},
   "outputs": [],
   "source": [
    "d[\"cnethash_perc\"] = d[\"chethash_proportions\"] / d[\"cnethash_0\"]"
   ]
  },
  {
   "cell_type": "code",
   "execution_count": 39,
   "id": "7b2b5f1a-735a-496e-939f-8c887d563909",
   "metadata": {},
   "outputs": [],
   "source": [
    "d = d.sort_values(by = \"cnethash_perc\", ascending= False)"
   ]
  },
  {
   "cell_type": "code",
   "execution_count": 40,
   "id": "4f83e494-c6db-4aec-a584-d46acd917438",
   "metadata": {},
   "outputs": [
    {
     "data": {
      "text/html": [
       "<div>\n",
       "<style scoped>\n",
       "    .dataframe tbody tr th:only-of-type {\n",
       "        vertical-align: middle;\n",
       "    }\n",
       "\n",
       "    .dataframe tbody tr th {\n",
       "        vertical-align: top;\n",
       "    }\n",
       "\n",
       "    .dataframe thead th {\n",
       "        text-align: right;\n",
       "    }\n",
       "</style>\n",
       "<table border=\"1\" class=\"dataframe\">\n",
       "  <thead>\n",
       "    <tr style=\"text-align: right;\">\n",
       "      <th></th>\n",
       "      <th>cnethash</th>\n",
       "      <th>chethash_proportions</th>\n",
       "      <th>cnethash_0</th>\n",
       "      <th>cnethash_perc</th>\n",
       "    </tr>\n",
       "  </thead>\n",
       "  <tbody>\n",
       "    <tr>\n",
       "      <th>3</th>\n",
       "      <td>9767258174204031868</td>\n",
       "      <td>21</td>\n",
       "      <td>28</td>\n",
       "      <td>0.750000</td>\n",
       "    </tr>\n",
       "    <tr>\n",
       "      <th>17</th>\n",
       "      <td>6406880047108242353</td>\n",
       "      <td>12</td>\n",
       "      <td>27</td>\n",
       "      <td>0.444444</td>\n",
       "    </tr>\n",
       "    <tr>\n",
       "      <th>12</th>\n",
       "      <td>1274834311847337075</td>\n",
       "      <td>14</td>\n",
       "      <td>42</td>\n",
       "      <td>0.333333</td>\n",
       "    </tr>\n",
       "    <tr>\n",
       "      <th>119</th>\n",
       "      <td>2385011738004893530</td>\n",
       "      <td>4</td>\n",
       "      <td>14</td>\n",
       "      <td>0.285714</td>\n",
       "    </tr>\n",
       "    <tr>\n",
       "      <th>49</th>\n",
       "      <td>1274416185440514140</td>\n",
       "      <td>7</td>\n",
       "      <td>25</td>\n",
       "      <td>0.280000</td>\n",
       "    </tr>\n",
       "    <tr>\n",
       "      <th>...</th>\n",
       "      <td>...</td>\n",
       "      <td>...</td>\n",
       "      <td>...</td>\n",
       "      <td>...</td>\n",
       "    </tr>\n",
       "    <tr>\n",
       "      <th>368</th>\n",
       "      <td>12379128262166757439</td>\n",
       "      <td>1</td>\n",
       "      <td>139</td>\n",
       "      <td>0.007194</td>\n",
       "    </tr>\n",
       "    <tr>\n",
       "      <th>155</th>\n",
       "      <td>10083374155754676052</td>\n",
       "      <td>3</td>\n",
       "      <td>426</td>\n",
       "      <td>0.007042</td>\n",
       "    </tr>\n",
       "    <tr>\n",
       "      <th>275</th>\n",
       "      <td>5265031842285981700</td>\n",
       "      <td>1</td>\n",
       "      <td>156</td>\n",
       "      <td>0.006410</td>\n",
       "    </tr>\n",
       "    <tr>\n",
       "      <th>281</th>\n",
       "      <td>8152637166701363697</td>\n",
       "      <td>1</td>\n",
       "      <td>227</td>\n",
       "      <td>0.004405</td>\n",
       "    </tr>\n",
       "    <tr>\n",
       "      <th>456</th>\n",
       "      <td>7582966172268177868</td>\n",
       "      <td>1</td>\n",
       "      <td>249</td>\n",
       "      <td>0.004016</td>\n",
       "    </tr>\n",
       "  </tbody>\n",
       "</table>\n",
       "<p>341 rows × 4 columns</p>\n",
       "</div>"
      ],
      "text/plain": [
       "                 cnethash  chethash_proportions  cnethash_0  cnethash_perc\n",
       "3     9767258174204031868                    21          28       0.750000\n",
       "17    6406880047108242353                    12          27       0.444444\n",
       "12    1274834311847337075                    14          42       0.333333\n",
       "119   2385011738004893530                     4          14       0.285714\n",
       "49    1274416185440514140                     7          25       0.280000\n",
       "..                    ...                   ...         ...            ...\n",
       "368  12379128262166757439                     1         139       0.007194\n",
       "155  10083374155754676052                     3         426       0.007042\n",
       "275   5265031842285981700                     1         156       0.006410\n",
       "281   8152637166701363697                     1         227       0.004405\n",
       "456   7582966172268177868                     1         249       0.004016\n",
       "\n",
       "[341 rows x 4 columns]"
      ]
     },
     "execution_count": 40,
     "metadata": {},
     "output_type": "execute_result"
    }
   ],
   "source": [
    "d[~d.cnethash_0.isin([1,2,3,4,5,6,7,8,9,10])]"
   ]
  },
  {
   "cell_type": "code",
   "execution_count": null,
   "id": "653808bb-1a38-4231-b815-77eebc7ba633",
   "metadata": {},
   "outputs": [],
   "source": [
    "\n",
    "\n",
    "\n",
    "\n"
   ]
  },
  {
   "cell_type": "markdown",
   "id": "8b617b13-d71a-42df-9c0b-64ae58840913",
   "metadata": {},
   "source": [
    "# Смотрим на поставщика трафика siteid"
   ]
  },
  {
   "cell_type": "code",
   "execution_count": 41,
   "id": "93ba0163-09bb-4444-a48c-48f0a0673300",
   "metadata": {},
   "outputs": [],
   "source": [
    "d = df_1.value_counts(subset = \"siteid\").reset_index(name = \"proportion_siteid\")"
   ]
  },
  {
   "cell_type": "markdown",
   "id": "b240a56a-7508-4eed-b696-312595dadad0",
   "metadata": {},
   "source": [
    "# Опять же, будем сравнивать в процентном соотношении"
   ]
  },
  {
   "cell_type": "code",
   "execution_count": 42,
   "id": "92c464ca-6333-4159-9d28-f3b86243d536",
   "metadata": {},
   "outputs": [],
   "source": [
    "f = df[df.tn == 0]"
   ]
  },
  {
   "cell_type": "code",
   "execution_count": 43,
   "id": "34f7fdf1-f887-4096-b30a-09e76b8160c9",
   "metadata": {
    "scrolled": true
   },
   "outputs": [],
   "source": [
    "f = f.value_counts(subset=\"siteid\").reset_index(name = \"siteid_0\")"
   ]
  },
  {
   "cell_type": "code",
   "execution_count": 44,
   "id": "efd1d8d5-b462-47c0-8610-d61a75dbf73c",
   "metadata": {},
   "outputs": [],
   "source": [
    "d = d.merge(right = f, on = \"siteid\", how = \"inner\")"
   ]
  },
  {
   "cell_type": "code",
   "execution_count": 45,
   "id": "ff902015-b5e9-4847-aa96-51f53beba6f4",
   "metadata": {},
   "outputs": [],
   "source": [
    "d[\"siteid_perc\"] = d[\"proportion_siteid\"] / d[\"siteid_0\"]"
   ]
  },
  {
   "cell_type": "code",
   "execution_count": 46,
   "id": "28e2ea10-d2bb-4737-96c2-4c9ca7ffe19e",
   "metadata": {},
   "outputs": [
    {
     "data": {
      "text/html": [
       "<div>\n",
       "<style scoped>\n",
       "    .dataframe tbody tr th:only-of-type {\n",
       "        vertical-align: middle;\n",
       "    }\n",
       "\n",
       "    .dataframe tbody tr th {\n",
       "        vertical-align: top;\n",
       "    }\n",
       "\n",
       "    .dataframe thead th {\n",
       "        text-align: right;\n",
       "    }\n",
       "</style>\n",
       "<table border=\"1\" class=\"dataframe\">\n",
       "  <thead>\n",
       "    <tr style=\"text-align: right;\">\n",
       "      <th></th>\n",
       "      <th>siteid</th>\n",
       "      <th>proportion_siteid</th>\n",
       "      <th>siteid_0</th>\n",
       "      <th>siteid_perc</th>\n",
       "    </tr>\n",
       "  </thead>\n",
       "  <tbody>\n",
       "    <tr>\n",
       "      <th>0</th>\n",
       "      <td>1732823002</td>\n",
       "      <td>1101</td>\n",
       "      <td>18108</td>\n",
       "      <td>0.060802</td>\n",
       "    </tr>\n",
       "    <tr>\n",
       "      <th>1</th>\n",
       "      <td>673473971</td>\n",
       "      <td>211</td>\n",
       "      <td>7051</td>\n",
       "      <td>0.029925</td>\n",
       "    </tr>\n",
       "    <tr>\n",
       "      <th>2</th>\n",
       "      <td>2019279739</td>\n",
       "      <td>167</td>\n",
       "      <td>18933</td>\n",
       "      <td>0.008821</td>\n",
       "    </tr>\n",
       "    <tr>\n",
       "      <th>3</th>\n",
       "      <td>3312146801</td>\n",
       "      <td>53</td>\n",
       "      <td>1753</td>\n",
       "      <td>0.030234</td>\n",
       "    </tr>\n",
       "    <tr>\n",
       "      <th>4</th>\n",
       "      <td>2854608146</td>\n",
       "      <td>10</td>\n",
       "      <td>1051</td>\n",
       "      <td>0.009515</td>\n",
       "    </tr>\n",
       "    <tr>\n",
       "      <th>5</th>\n",
       "      <td>251638358</td>\n",
       "      <td>5</td>\n",
       "      <td>187</td>\n",
       "      <td>0.026738</td>\n",
       "    </tr>\n",
       "  </tbody>\n",
       "</table>\n",
       "</div>"
      ],
      "text/plain": [
       "       siteid  proportion_siteid  siteid_0  siteid_perc\n",
       "0  1732823002               1101     18108     0.060802\n",
       "1   673473971                211      7051     0.029925\n",
       "2  2019279739                167     18933     0.008821\n",
       "3  3312146801                 53      1753     0.030234\n",
       "4  2854608146                 10      1051     0.009515\n",
       "5   251638358                  5       187     0.026738"
      ]
     },
     "execution_count": 46,
     "metadata": {},
     "output_type": "execute_result"
    }
   ],
   "source": [
    "d"
   ]
  },
  {
   "cell_type": "code",
   "execution_count": 47,
   "id": "ac8ea115-11da-4a4e-9b46-acbda57bd2ec",
   "metadata": {},
   "outputs": [],
   "source": [
    "df_1 = df_1.merge(right = d[[\"siteid\", \"siteid_perc\"]], on = \"siteid\", how = \"inner\")"
   ]
  },
  {
   "cell_type": "code",
   "execution_count": null,
   "id": "ab29840b-2e60-4720-8f5a-c5b2daeeed06",
   "metadata": {},
   "outputs": [],
   "source": [
    "\n",
    "\n",
    "\n",
    "\n"
   ]
  },
  {
   "cell_type": "markdown",
   "id": "642afcef-dc51-488f-b24a-83a551e26166",
   "metadata": {},
   "source": [
    "# Последнее на что смотрим на домен "
   ]
  },
  {
   "cell_type": "code",
   "execution_count": 48,
   "id": "c0a3ce43-84ee-4f1d-8370-a38e6a2b2e61",
   "metadata": {},
   "outputs": [],
   "source": [
    "d = df_1.value_counts(subset = \"domhash\").reset_index(name = \"proportion_domhash\")"
   ]
  },
  {
   "cell_type": "code",
   "execution_count": 49,
   "id": "2d9be9e2-3912-4da0-bbe8-ec578c21ba1e",
   "metadata": {},
   "outputs": [],
   "source": [
    "f = df[df.tn == 0]"
   ]
  },
  {
   "cell_type": "code",
   "execution_count": 50,
   "id": "c813a6d6-e6b1-46ab-b470-c886a90ac6a6",
   "metadata": {},
   "outputs": [],
   "source": [
    "f = f.value_counts(subset=\"domhash\").reset_index(name = \"domhash_0\")"
   ]
  },
  {
   "cell_type": "code",
   "execution_count": 51,
   "id": "36fee0f4-b0d8-4fa8-8727-dca3c0fa82af",
   "metadata": {},
   "outputs": [],
   "source": [
    "d = d.merge(right = f, on = \"domhash\", how = \"inner\")"
   ]
  },
  {
   "cell_type": "code",
   "execution_count": 52,
   "id": "7ac6ffd7-cead-44f2-9c58-5a1a54246fdb",
   "metadata": {},
   "outputs": [],
   "source": [
    "d[\"domhash_perc\"] = d[\"proportion_domhash\"] / d[\"domhash_0\"]"
   ]
  },
  {
   "cell_type": "code",
   "execution_count": 53,
   "id": "f94d3d20-5b0f-475c-a7a2-a14a79f948ce",
   "metadata": {},
   "outputs": [],
   "source": [
    "df_1 = df_1.merge(right = d[[\"domhash\", \"domhash_perc\"]], on = \"domhash\", how = \"inner\")"
   ]
  },
  {
   "cell_type": "code",
   "execution_count": 54,
   "id": "9290f0d2-6dc6-44d6-aea8-4b5d7d0a56e4",
   "metadata": {},
   "outputs": [
    {
     "data": {
      "text/html": [
       "<div>\n",
       "<style scoped>\n",
       "    .dataframe tbody tr th:only-of-type {\n",
       "        vertical-align: middle;\n",
       "    }\n",
       "\n",
       "    .dataframe tbody tr th {\n",
       "        vertical-align: top;\n",
       "    }\n",
       "\n",
       "    .dataframe thead th {\n",
       "        text-align: right;\n",
       "    }\n",
       "</style>\n",
       "<table border=\"1\" class=\"dataframe\">\n",
       "  <thead>\n",
       "    <tr style=\"text-align: right;\">\n",
       "      <th></th>\n",
       "      <th>domhash</th>\n",
       "      <th>proportion_domhash</th>\n",
       "      <th>domhash_0</th>\n",
       "      <th>domhash_perc</th>\n",
       "    </tr>\n",
       "  </thead>\n",
       "  <tbody>\n",
       "    <tr>\n",
       "      <th>9</th>\n",
       "      <td>7097386544750852276</td>\n",
       "      <td>29</td>\n",
       "      <td>48</td>\n",
       "      <td>0.604167</td>\n",
       "    </tr>\n",
       "    <tr>\n",
       "      <th>26</th>\n",
       "      <td>15112805901111966778</td>\n",
       "      <td>6</td>\n",
       "      <td>14</td>\n",
       "      <td>0.428571</td>\n",
       "    </tr>\n",
       "    <tr>\n",
       "      <th>16</th>\n",
       "      <td>16759061825393208232</td>\n",
       "      <td>9</td>\n",
       "      <td>25</td>\n",
       "      <td>0.360000</td>\n",
       "    </tr>\n",
       "    <tr>\n",
       "      <th>81</th>\n",
       "      <td>10922377396575170130</td>\n",
       "      <td>2</td>\n",
       "      <td>6</td>\n",
       "      <td>0.333333</td>\n",
       "    </tr>\n",
       "    <tr>\n",
       "      <th>53</th>\n",
       "      <td>5694199968753817350</td>\n",
       "      <td>3</td>\n",
       "      <td>12</td>\n",
       "      <td>0.250000</td>\n",
       "    </tr>\n",
       "    <tr>\n",
       "      <th>73</th>\n",
       "      <td>6953334576071830371</td>\n",
       "      <td>2</td>\n",
       "      <td>8</td>\n",
       "      <td>0.250000</td>\n",
       "    </tr>\n",
       "    <tr>\n",
       "      <th>31</th>\n",
       "      <td>6710524849508083493</td>\n",
       "      <td>6</td>\n",
       "      <td>26</td>\n",
       "      <td>0.230769</td>\n",
       "    </tr>\n",
       "    <tr>\n",
       "      <th>54</th>\n",
       "      <td>14630686440316387238</td>\n",
       "      <td>3</td>\n",
       "      <td>14</td>\n",
       "      <td>0.214286</td>\n",
       "    </tr>\n",
       "    <tr>\n",
       "      <th>46</th>\n",
       "      <td>718179210786408666</td>\n",
       "      <td>4</td>\n",
       "      <td>20</td>\n",
       "      <td>0.200000</td>\n",
       "    </tr>\n",
       "    <tr>\n",
       "      <th>79</th>\n",
       "      <td>14253219143605151993</td>\n",
       "      <td>2</td>\n",
       "      <td>11</td>\n",
       "      <td>0.181818</td>\n",
       "    </tr>\n",
       "    <tr>\n",
       "      <th>57</th>\n",
       "      <td>16139186147204412645</td>\n",
       "      <td>3</td>\n",
       "      <td>18</td>\n",
       "      <td>0.166667</td>\n",
       "    </tr>\n",
       "    <tr>\n",
       "      <th>178</th>\n",
       "      <td>15405800946658372575</td>\n",
       "      <td>1</td>\n",
       "      <td>7</td>\n",
       "      <td>0.142857</td>\n",
       "    </tr>\n",
       "    <tr>\n",
       "      <th>124</th>\n",
       "      <td>854672068030542998</td>\n",
       "      <td>1</td>\n",
       "      <td>7</td>\n",
       "      <td>0.142857</td>\n",
       "    </tr>\n",
       "    <tr>\n",
       "      <th>198</th>\n",
       "      <td>18284980193543419306</td>\n",
       "      <td>1</td>\n",
       "      <td>7</td>\n",
       "      <td>0.142857</td>\n",
       "    </tr>\n",
       "    <tr>\n",
       "      <th>177</th>\n",
       "      <td>15006518335371997440</td>\n",
       "      <td>1</td>\n",
       "      <td>7</td>\n",
       "      <td>0.142857</td>\n",
       "    </tr>\n",
       "    <tr>\n",
       "      <th>192</th>\n",
       "      <td>17563744295852060314</td>\n",
       "      <td>1</td>\n",
       "      <td>7</td>\n",
       "      <td>0.142857</td>\n",
       "    </tr>\n",
       "    <tr>\n",
       "      <th>176</th>\n",
       "      <td>14862506851332105890</td>\n",
       "      <td>1</td>\n",
       "      <td>7</td>\n",
       "      <td>0.142857</td>\n",
       "    </tr>\n",
       "    <tr>\n",
       "      <th>92</th>\n",
       "      <td>5892719047480597143</td>\n",
       "      <td>1</td>\n",
       "      <td>7</td>\n",
       "      <td>0.142857</td>\n",
       "    </tr>\n",
       "    <tr>\n",
       "      <th>41</th>\n",
       "      <td>9581860460805131346</td>\n",
       "      <td>4</td>\n",
       "      <td>29</td>\n",
       "      <td>0.137931</td>\n",
       "    </tr>\n",
       "    <tr>\n",
       "      <th>78</th>\n",
       "      <td>2063588731158752689</td>\n",
       "      <td>2</td>\n",
       "      <td>15</td>\n",
       "      <td>0.133333</td>\n",
       "    </tr>\n",
       "  </tbody>\n",
       "</table>\n",
       "</div>"
      ],
      "text/plain": [
       "                  domhash  proportion_domhash  domhash_0  domhash_perc\n",
       "9     7097386544750852276                  29         48      0.604167\n",
       "26   15112805901111966778                   6         14      0.428571\n",
       "16   16759061825393208232                   9         25      0.360000\n",
       "81   10922377396575170130                   2          6      0.333333\n",
       "53    5694199968753817350                   3         12      0.250000\n",
       "73    6953334576071830371                   2          8      0.250000\n",
       "31    6710524849508083493                   6         26      0.230769\n",
       "54   14630686440316387238                   3         14      0.214286\n",
       "46     718179210786408666                   4         20      0.200000\n",
       "79   14253219143605151993                   2         11      0.181818\n",
       "57   16139186147204412645                   3         18      0.166667\n",
       "178  15405800946658372575                   1          7      0.142857\n",
       "124    854672068030542998                   1          7      0.142857\n",
       "198  18284980193543419306                   1          7      0.142857\n",
       "177  15006518335371997440                   1          7      0.142857\n",
       "192  17563744295852060314                   1          7      0.142857\n",
       "176  14862506851332105890                   1          7      0.142857\n",
       "92    5892719047480597143                   1          7      0.142857\n",
       "41    9581860460805131346                   4         29      0.137931\n",
       "78    2063588731158752689                   2         15      0.133333"
      ]
     },
     "execution_count": 54,
     "metadata": {},
     "output_type": "execute_result"
    }
   ],
   "source": [
    "d = d[~d.domhash_0.isin([1, 2, 3, 4, 5])]\n",
    "d = d.sort_values(by = \"domhash_perc\", ascending= False)\n",
    "d.head(20)"
   ]
  },
  {
   "cell_type": "code",
   "execution_count": null,
   "id": "14f0f5e6-dac9-4cae-ac9e-fa3266bd145a",
   "metadata": {},
   "outputs": [],
   "source": [
    "\n",
    "\n",
    "\n"
   ]
  },
  {
   "cell_type": "markdown",
   "id": "f00dc911-aeca-41ec-95a3-8ee05e8275c1",
   "metadata": {},
   "source": [
    "# Просуммируем что мы имеем\n",
    "\n",
    "## 1 click_rate% - Эта метрика уже важнее. Она показывает соотношение кликов к показам рекламы\n",
    "## 2 flag_time - Тоже важная метрика, которая показает насколько часто юзер кликал по банерам\n",
    "## 3 geo_proportions - Показывает из какого региона пользователь и в каком соотношении пользователи находятся в даннном регионе\n",
    "## 4 chethash_proportions - Показывает какая сеть у пользователя и в каком соотношении эти данные \n",
    "## 5 proportion_siteid - Поставщик трафика и в каком соотношении был закуплен трафик у данного поставщика \n",
    "## 6 proportion_domhash - Такая же метрика как 5, но с доменом "
   ]
  },
  {
   "cell_type": "code",
   "execution_count": null,
   "id": "a0327a86-f384-41e1-b89a-4fcbb5acac49",
   "metadata": {},
   "outputs": [],
   "source": [
    "\n",
    "\n",
    "\n"
   ]
  },
  {
   "cell_type": "markdown",
   "id": "5ab75f42-54ee-4427-acab-930f1bce05a3",
   "metadata": {},
   "source": [
    "# Начнем отсекать данные и искать накрутку "
   ]
  },
  {
   "cell_type": "markdown",
   "id": "b7ca5f24-e934-4058-884f-00312b086f8d",
   "metadata": {},
   "source": [
    "### Отсекаем пользователей по clickrate"
   ]
  },
  {
   "cell_type": "code",
   "execution_count": 55,
   "id": "ec82a61f-8f3e-45d1-9ff9-7b8f277c5603",
   "metadata": {},
   "outputs": [
    {
     "data": {
      "text/html": [
       "<div>\n",
       "<style scoped>\n",
       "    .dataframe tbody tr th:only-of-type {\n",
       "        vertical-align: middle;\n",
       "    }\n",
       "\n",
       "    .dataframe tbody tr th {\n",
       "        vertical-align: top;\n",
       "    }\n",
       "\n",
       "    .dataframe thead th {\n",
       "        text-align: right;\n",
       "    }\n",
       "</style>\n",
       "<table border=\"1\" class=\"dataframe\">\n",
       "  <thead>\n",
       "    <tr style=\"text-align: right;\">\n",
       "      <th></th>\n",
       "      <th>eid</th>\n",
       "      <th>t</th>\n",
       "      <th>user</th>\n",
       "      <th>tn</th>\n",
       "      <th>geo</th>\n",
       "      <th>cnethash</th>\n",
       "      <th>devtype</th>\n",
       "      <th>brotype</th>\n",
       "      <th>bsize</th>\n",
       "      <th>siteid</th>\n",
       "      <th>domhash</th>\n",
       "      <th>urlhash</th>\n",
       "      <th>click_advert</th>\n",
       "      <th>show_cnt</th>\n",
       "      <th>click_rate%</th>\n",
       "      <th>flag_time</th>\n",
       "      <th>geo_suspicious_per</th>\n",
       "      <th>siteid_perc</th>\n",
       "      <th>domhash_perc</th>\n",
       "    </tr>\n",
       "  </thead>\n",
       "  <tbody>\n",
       "    <tr>\n",
       "      <th>0</th>\n",
       "      <td>299522852624</td>\n",
       "      <td>72336</td>\n",
       "      <td>207</td>\n",
       "      <td>1</td>\n",
       "      <td>1539789858</td>\n",
       "      <td>1914105787300337336</td>\n",
       "      <td>2</td>\n",
       "      <td>2</td>\n",
       "      <td>3529439892</td>\n",
       "      <td>1732823002</td>\n",
       "      <td>6914246990831417846</td>\n",
       "      <td>7225540168013982636</td>\n",
       "      <td>1</td>\n",
       "      <td>3</td>\n",
       "      <td>33.33</td>\n",
       "      <td>1</td>\n",
       "      <td>0.024855</td>\n",
       "      <td>0.060802</td>\n",
       "      <td>0.040000</td>\n",
       "    </tr>\n",
       "    <tr>\n",
       "      <th>1</th>\n",
       "      <td>48923341882</td>\n",
       "      <td>1135684</td>\n",
       "      <td>363</td>\n",
       "      <td>1</td>\n",
       "      <td>496411576</td>\n",
       "      <td>618208581979777446</td>\n",
       "      <td>2</td>\n",
       "      <td>2</td>\n",
       "      <td>3529439892</td>\n",
       "      <td>1732823002</td>\n",
       "      <td>7589661441840127586</td>\n",
       "      <td>13552381492480484636</td>\n",
       "      <td>3</td>\n",
       "      <td>24</td>\n",
       "      <td>12.50</td>\n",
       "      <td>1</td>\n",
       "      <td>0.062257</td>\n",
       "      <td>0.060802</td>\n",
       "      <td>0.030284</td>\n",
       "    </tr>\n",
       "    <tr>\n",
       "      <th>2</th>\n",
       "      <td>48925603446</td>\n",
       "      <td>1135717</td>\n",
       "      <td>363</td>\n",
       "      <td>1</td>\n",
       "      <td>496411576</td>\n",
       "      <td>618208581979777446</td>\n",
       "      <td>2</td>\n",
       "      <td>2</td>\n",
       "      <td>3529439892</td>\n",
       "      <td>1732823002</td>\n",
       "      <td>7589661441840127586</td>\n",
       "      <td>13552381492480484636</td>\n",
       "      <td>3</td>\n",
       "      <td>24</td>\n",
       "      <td>12.50</td>\n",
       "      <td>1</td>\n",
       "      <td>0.062257</td>\n",
       "      <td>0.060802</td>\n",
       "      <td>0.030284</td>\n",
       "    </tr>\n",
       "    <tr>\n",
       "      <th>3</th>\n",
       "      <td>52173416312</td>\n",
       "      <td>1208840</td>\n",
       "      <td>363</td>\n",
       "      <td>1</td>\n",
       "      <td>496411576</td>\n",
       "      <td>618208581979777446</td>\n",
       "      <td>2</td>\n",
       "      <td>2</td>\n",
       "      <td>4059410016</td>\n",
       "      <td>1732823002</td>\n",
       "      <td>5398870908427309388</td>\n",
       "      <td>7145879351273368377</td>\n",
       "      <td>3</td>\n",
       "      <td>24</td>\n",
       "      <td>12.50</td>\n",
       "      <td>1</td>\n",
       "      <td>0.062257</td>\n",
       "      <td>0.060802</td>\n",
       "      <td>0.089786</td>\n",
       "    </tr>\n",
       "    <tr>\n",
       "      <th>4</th>\n",
       "      <td>16010841443</td>\n",
       "      <td>376051</td>\n",
       "      <td>920</td>\n",
       "      <td>1</td>\n",
       "      <td>390304810</td>\n",
       "      <td>2339536559139938629</td>\n",
       "      <td>2</td>\n",
       "      <td>2</td>\n",
       "      <td>2286540757</td>\n",
       "      <td>673473971</td>\n",
       "      <td>15630579387847758071</td>\n",
       "      <td>15271819797260967753</td>\n",
       "      <td>1</td>\n",
       "      <td>15</td>\n",
       "      <td>6.67</td>\n",
       "      <td>1</td>\n",
       "      <td>0.048319</td>\n",
       "      <td>0.029925</td>\n",
       "      <td>0.065574</td>\n",
       "    </tr>\n",
       "  </tbody>\n",
       "</table>\n",
       "</div>"
      ],
      "text/plain": [
       "            eid        t  user  tn         geo             cnethash  devtype  \\\n",
       "0  299522852624    72336   207   1  1539789858  1914105787300337336        2   \n",
       "1   48923341882  1135684   363   1   496411576   618208581979777446        2   \n",
       "2   48925603446  1135717   363   1   496411576   618208581979777446        2   \n",
       "3   52173416312  1208840   363   1   496411576   618208581979777446        2   \n",
       "4   16010841443   376051   920   1   390304810  2339536559139938629        2   \n",
       "\n",
       "   brotype       bsize      siteid               domhash  \\\n",
       "0        2  3529439892  1732823002   6914246990831417846   \n",
       "1        2  3529439892  1732823002   7589661441840127586   \n",
       "2        2  3529439892  1732823002   7589661441840127586   \n",
       "3        2  4059410016  1732823002   5398870908427309388   \n",
       "4        2  2286540757   673473971  15630579387847758071   \n",
       "\n",
       "                urlhash  click_advert  show_cnt  click_rate%  flag_time  \\\n",
       "0   7225540168013982636             1         3        33.33          1   \n",
       "1  13552381492480484636             3        24        12.50          1   \n",
       "2  13552381492480484636             3        24        12.50          1   \n",
       "3   7145879351273368377             3        24        12.50          1   \n",
       "4  15271819797260967753             1        15         6.67          1   \n",
       "\n",
       "   geo_suspicious_per  siteid_perc  domhash_perc  \n",
       "0            0.024855     0.060802      0.040000  \n",
       "1            0.062257     0.060802      0.030284  \n",
       "2            0.062257     0.060802      0.030284  \n",
       "3            0.062257     0.060802      0.089786  \n",
       "4            0.048319     0.029925      0.065574  "
      ]
     },
     "execution_count": 55,
     "metadata": {},
     "output_type": "execute_result"
    }
   ],
   "source": [
    "df_1.head()"
   ]
  },
  {
   "cell_type": "code",
   "execution_count": 56,
   "id": "5862dae1-9c40-4051-a589-f355f0b3eb5e",
   "metadata": {},
   "outputs": [],
   "source": [
    "z = df_1[[\"user\",\"click_advert\",\"show_cnt\",\"click_rate%\", \"flag_time\"]].sort_values(by = \"click_rate%\",ascending=False).reset_index(drop=True)\n",
    "# Сразу почистим дубликаты\n",
    "z.drop_duplicates(inplace=True)"
   ]
  },
  {
   "cell_type": "markdown",
   "id": "7b765f03-afae-4d69-be70-1aebcb816223",
   "metadata": {},
   "source": [
    "## Сразу определим после какого значения clickrate мы будем говорить, что скорее всего накрутка + Для большей уверенности будем смотреть по юзерам, где время между переходами по банерам маленькое flag_time == 1\n",
    "## Для этого давайте изначально уберем все значения где show_cnt менее 30"
   ]
  },
  {
   "cell_type": "code",
   "execution_count": 57,
   "id": "ab6f6ea8-6ed9-415b-a2d1-a38f45138990",
   "metadata": {},
   "outputs": [],
   "source": [
    "z = z[(z.show_cnt > 30) & (z.flag_time == 1)].sort_values(by = \"click_rate%\", ascending=False)"
   ]
  },
  {
   "cell_type": "code",
   "execution_count": 58,
   "id": "cee8801a-4984-4589-a84e-6d1f0b5787ba",
   "metadata": {},
   "outputs": [
    {
     "data": {
      "text/html": [
       "<div>\n",
       "<style scoped>\n",
       "    .dataframe tbody tr th:only-of-type {\n",
       "        vertical-align: middle;\n",
       "    }\n",
       "\n",
       "    .dataframe tbody tr th {\n",
       "        vertical-align: top;\n",
       "    }\n",
       "\n",
       "    .dataframe thead th {\n",
       "        text-align: right;\n",
       "    }\n",
       "</style>\n",
       "<table border=\"1\" class=\"dataframe\">\n",
       "  <thead>\n",
       "    <tr style=\"text-align: right;\">\n",
       "      <th></th>\n",
       "      <th>user</th>\n",
       "      <th>click_advert</th>\n",
       "      <th>show_cnt</th>\n",
       "      <th>click_rate%</th>\n",
       "      <th>flag_time</th>\n",
       "    </tr>\n",
       "  </thead>\n",
       "  <tbody>\n",
       "    <tr>\n",
       "      <th>157</th>\n",
       "      <td>56615</td>\n",
       "      <td>7</td>\n",
       "      <td>35</td>\n",
       "      <td>20.00</td>\n",
       "      <td>1</td>\n",
       "    </tr>\n",
       "    <tr>\n",
       "      <th>172</th>\n",
       "      <td>5253</td>\n",
       "      <td>10</td>\n",
       "      <td>51</td>\n",
       "      <td>19.61</td>\n",
       "      <td>1</td>\n",
       "    </tr>\n",
       "    <tr>\n",
       "      <th>185</th>\n",
       "      <td>5161</td>\n",
       "      <td>8</td>\n",
       "      <td>43</td>\n",
       "      <td>18.60</td>\n",
       "      <td>1</td>\n",
       "    </tr>\n",
       "    <tr>\n",
       "      <th>193</th>\n",
       "      <td>92078</td>\n",
       "      <td>6</td>\n",
       "      <td>33</td>\n",
       "      <td>18.18</td>\n",
       "      <td>1</td>\n",
       "    </tr>\n",
       "    <tr>\n",
       "      <th>203</th>\n",
       "      <td>45726</td>\n",
       "      <td>11</td>\n",
       "      <td>65</td>\n",
       "      <td>16.92</td>\n",
       "      <td>1</td>\n",
       "    </tr>\n",
       "  </tbody>\n",
       "</table>\n",
       "</div>"
      ],
      "text/plain": [
       "      user  click_advert  show_cnt  click_rate%  flag_time\n",
       "157  56615             7        35        20.00          1\n",
       "172   5253            10        51        19.61          1\n",
       "185   5161             8        43        18.60          1\n",
       "193  92078             6        33        18.18          1\n",
       "203  45726            11        65        16.92          1"
      ]
     },
     "execution_count": 58,
     "metadata": {},
     "output_type": "execute_result"
    }
   ],
   "source": [
    "z.head()"
   ]
  },
  {
   "cell_type": "code",
   "execution_count": 59,
   "id": "b1847a35-49c6-41b1-863b-56ed95f5093c",
   "metadata": {},
   "outputs": [
    {
     "data": {
      "image/png": "[encoded data removed]",
      "text/plain": [
       "<Figure size 640x480 with 1 Axes>"
      ]
     },
     "metadata": {},
     "output_type": "display_data"
    },
    {
     "data": {
      "image/png": "[encoded data removed]",
      "text/plain": [
       "<Figure size 640x480 with 1 Axes>"
      ]
     },
     "metadata": {},
     "output_type": "display_data"
    }
   ],
   "source": [
    "sns.histplot(z['click_rate%'], kde=True)\n",
    "plt.title('Распределение click_rate%')\n",
    "plt.xlabel('Click Rate (%)')\n",
    "plt.ylabel('Количество')\n",
    "plt.show()\n",
    "\n",
    "#Boxplot\n",
    "sns.boxplot(x=z['click_rate%'])\n",
    "plt.title('Boxplot для Click Rate (%)')\n",
    "plt.show()"
   ]
  },
  {
   "cell_type": "markdown",
   "id": "99738743-cf55-4cc1-8689-f8ad22965ca3",
   "metadata": {},
   "source": [
    "## Во первых, мы можем убрать все значения где click_rate более 14\n",
    "## “Значение 14 превышает верхнюю границу (Q3 + 1.5 * IQR) для выбросов, что делает его статистически аномальным.”\n",
    "\n",
    "## Также мы видим 3 пика данных, в области 0, 2.5, 6, значит, мы можем сделать вывод о том, что после этих значений, у нас начинается накрутка и все данные, которые вышли за предел скажем 7,5, являются накруткой\n"
   ]
  },
  {
   "cell_type": "code",
   "execution_count": 60,
   "id": "8bf917e0-5351-494e-8e15-5756dadc688c",
   "metadata": {},
   "outputs": [
    {
     "name": "stdout",
     "output_type": "stream",
     "text": [
      "Процент значений выше 6%: 31.67%\n"
     ]
    }
   ],
   "source": [
    "threshold = 6\n",
    "percentage_above = (z['click_rate%'] > threshold).mean() * 100\n",
    "print(f\"Процент значений выше {threshold}%: {percentage_above:.2f}%\")"
   ]
  },
  {
   "cell_type": "code",
   "execution_count": 61,
   "id": "ce8eae96-e3eb-4d5a-9bdb-b04502fe36c7",
   "metadata": {},
   "outputs": [
    {
     "name": "stdout",
     "output_type": "stream",
     "text": [
      "Процент значений выше 7%: 24.44%\n"
     ]
    }
   ],
   "source": [
    "threshold = 7\n",
    "percentage_above = (z['click_rate%'] > threshold).mean() * 100\n",
    "print(f\"Процент значений выше {threshold}%: {percentage_above:.2f}%\")"
   ]
  },
  {
   "cell_type": "markdown",
   "id": "dc6046c7-b592-49af-915b-30248ad8ff7d",
   "metadata": {},
   "source": [
    "### В рамках теста, давайте скажем, что за порог берем 7% "
   ]
  },
  {
   "cell_type": "code",
   "execution_count": 62,
   "id": "2e886e0d-f61e-44b4-9faf-8d32b5cbef5f",
   "metadata": {},
   "outputs": [],
   "source": [
    "suspected_users = z[z[\"click_rate%\"] > 7]"
   ]
  },
  {
   "cell_type": "code",
   "execution_count": 63,
   "id": "6a445bcb-d41b-416a-a2f2-4b04d71e52d5",
   "metadata": {},
   "outputs": [],
   "source": [
    "suspected_users = np.array(suspected_users.user.unique())"
   ]
  },
  {
   "cell_type": "code",
   "execution_count": 64,
   "id": "c86aa432-d23a-4b5c-9dbe-1c15a71658a8",
   "metadata": {
    "scrolled": true
   },
   "outputs": [
    {
     "data": {
      "text/plain": [
       "array([56615,  5253,  5161, 92078, 45726, 83725,  1636, 90418, 45811,\n",
       "       74276, 27122, 58842, 73065,  1492, 64844, 11783,  9471, 16618,\n",
       "        5999, 29537, 46768, 83186, 32449, 59437, 31043, 22111, 70114,\n",
       "       26069, 59036, 72225, 23344, 88570, 17148, 51247, 59605, 68001,\n",
       "       47779, 98471, 41735, 81793, 36983, 17705, 37938, 44375])"
      ]
     },
     "execution_count": 64,
     "metadata": {},
     "output_type": "execute_result"
    }
   ],
   "source": [
    "suspected_users"
   ]
  },
  {
   "cell_type": "markdown",
   "id": "456aaaeb-a78d-408f-abd1-f5181b4f2582",
   "metadata": {},
   "source": [
    "# Этих пользователей мы считаем накрутчиками, поэтому отметим их в основной таблице и заодно посмотрим что между ними общего"
   ]
  },
  {
   "cell_type": "code",
   "execution_count": null,
   "id": "669caeef-f1ba-41de-8dff-261cc2a1614c",
   "metadata": {},
   "outputs": [],
   "source": [
    "# Смотрим на domhash\n",
    "df[\"suspected_users\"] = df[\"user\"].isin(suspected_users).astype(int)\n",
    "a = df[(df.suspected_users == 1) & (df.tn == 1 )]\n",
    "b = df[(df.suspected_users == 1) & (df.tn == 0 )]\n",
    "a = a.groupby(\"domhash\")[\"user\"].count().sort_values(ascending=False).reset_index(name = \"1\")\n",
    "b = b.groupby(\"domhash\")[\"user\"].count().sort_values(ascending=False).reset_index(name = \"0\")\n",
    "b = b.merge(right = a, on = \"domhash\", how = \"inner\")\n",
    "b.drop_duplicates(inplace=True)\n",
    "b[\"data\"] = b[\"1\"] / b[\"0\"] \n",
    "b = b[~b[\"0\"].isin(np.array(range(20)))]\n",
    "b.sort_values(by = \"data\", ascending=False).reset_index(drop=True)"
   ]
  },
  {
   "cell_type": "code",
   "execution_count": null,
   "id": "b83311ce-f66e-4f8f-b5fd-204132f990cd",
   "metadata": {},
   "outputs": [],
   "source": [
    "# Смотрим на geo\n",
    "a = df[(df.suspected_users == 1) & (df.tn == 1 )]\n",
    "b = df[(df.suspected_users == 1) & (df.tn == 0 )]\n",
    "a = a.groupby(\"geo\")[\"user\"].count().sort_values(ascending=False).reset_index(name = \"1\")\n",
    "b = b.groupby(\"geo\")[\"user\"].count().sort_values(ascending=False).reset_index(name = \"0\")\n",
    "b = b.merge(right = a, on = \"geo\", how = \"inner\")\n",
    "b.drop_duplicates(inplace=True)\n",
    "b[\"data\"] = b[\"1\"] / b[\"0\"] \n",
    "b = b[~b[\"0\"].isin(np.array(range(20)))]\n",
    "b.sort_values(by = \"data\", ascending=False).reset_index(drop=True)"
   ]
  },
  {
   "cell_type": "code",
   "execution_count": null,
   "id": "cd24304f-09cf-40c2-9cc2-1d9cc10e6d8c",
   "metadata": {},
   "outputs": [],
   "source": [
    "# Смотрим на cnethash\n",
    "a = df[(df.suspected_users == 1) & (df.tn == 1 )]\n",
    "b = df[(df.suspected_users == 1) & (df.tn == 0 )]\n",
    "a = a.groupby(\"cnethash\")[\"user\"].count().sort_values(ascending=False).reset_index(name = \"1\")\n",
    "b = b.groupby(\"cnethash\")[\"user\"].count().sort_values(ascending=False).reset_index(name = \"0\")\n",
    "b = b.merge(right = a, on = \"cnethash\", how = \"inner\")\n",
    "b.drop_duplicates(inplace=True)\n",
    "b[\"data\"] = b[\"1\"] / b[\"0\"] \n",
    "b = b[~b[\"0\"].isin(np.array(range(20)))]\n",
    "b.sort_values(by = \"data\", ascending=False).reset_index(drop=True)"
   ]
  },
  {
   "cell_type": "code",
   "execution_count": 69,
   "id": "e02e17a9-15f7-45dc-b154-7f7a371ff9b6",
   "metadata": {},
   "outputs": [
    {
     "data": {
      "text/plain": [
       "tn\n",
       "0    0.975866\n",
       "1    0.024134\n",
       "Name: proportion, dtype: float64"
      ]
     },
     "execution_count": 69,
     "metadata": {},
     "output_type": "execute_result"
    }
   ],
   "source": [
    "p = df[df.suspected_users == 0]\n",
    "p[\"tn\"].value_counts(normalize=True)"
   ]
  },
  {
   "cell_type": "code",
   "execution_count": 70,
   "id": "0cb0febb-584e-486b-a994-63ab92c0d2ef",
   "metadata": {},
   "outputs": [
    {
     "data": {
      "text/plain": [
       "Text(0, 0.5, '')"
      ]
     },
     "execution_count": 70,
     "metadata": {},
     "output_type": "execute_result"
    },
    {
     "data": {
      "image/png": "[encoded data removed]",
      "text/plain": [
       "<Figure size 640x480 with 1 Axes>"
      ]
     },
     "metadata": {},
     "output_type": "display_data"
    }
   ],
   "source": [
    "ax = p.tn.value_counts(normalize=True).plot.pie(title=\"Конверсия\", labels=[\"Не перешли\", \"Перешли\"], autopct='%1.1f%%', cmap='tab20')\n",
    "ax.set_ylabel('')"
   ]
  },
  {
   "cell_type": "markdown",
   "id": "edfbf317-794c-45c3-be0c-30f9c28fca34",
   "metadata": {},
   "source": [
    "# Выводы (Консервативные)\n",
    "## Изначально наша конверсия, с учетом накрутки была 3,18%, после нормализации значений, мы получили, что истинная конверсия составляет 2,4%\n",
    "\n",
    "## На какие показатели мы смотрили, чтобы понять, что клик может быть накрученный \n",
    "## 1 Мы смотрим на click rate каждого пользователя, мы убираем все значения где click rate более 7,5% и сразу же мы  смотрим на время за которое пользователь кликнул на рекламу, в нашем случае это менее 0,5 секунд\n",
    "\n",
    "### Таким образом у нас получилось 44 юзера, которых мы заподозрили в спаме [56615,  5253,  5161, 92078, 45726, 83725,  1636, 90418, 45811, 74276, 27122, 58842, 73065,  1492, 64844, 11783,  9471, 16618, 5999, 29537, 46768, 83186, 32449, 59437, 31043, 22111, 70114, 26069, 59036, 72225, 23344, 88570, 17148, 51247, 59605, 68001, 47779, 98471, 41735, 81793, 36983, 17705, 37938, 44375]\n",
    "## Плюс я нашел интересный факт связанный с domhash В 23.5% suspected users приходили с этого домена (8016818914374733663)"
   ]
  },
  {
   "cell_type": "code",
   "execution_count": null,
   "id": "be07a476-6454-4029-8c97-750db42c8894",
   "metadata": {},
   "outputs": [],
   "source": [
    "\n",
    "\n",
    "\n",
    "\n"
   ]
  },
  {
   "cell_type": "code",
   "execution_count": null,
   "id": "d78e3133-8a47-4547-8358-4e1ec7d55ab6",
   "metadata": {},
   "outputs": [],
   "source": []
  },
  {
   "cell_type": "markdown",
   "id": "9b04d0d3-2990-4e79-9ddf-c1f6577f3333",
   "metadata": {},
   "source": [
    "# Выводы (более агрессивные)\n",
    "\n",
    "# Тут мы смотрим на время реагирования на рекламу, если оно менее 0,02 сек, мы сразу блокируем всех этих пользователей\n",
    "# Плюс, если click rate более 8, мы также сразу блокируем этих пользователей \n",
    "\n",
    "# Так у нас тоже получилось, что истинная конверсия 2,4%. Можно предположить что это настоящее число конверсии и мы все верно просчитали "
   ]
  },
  {
   "cell_type": "code",
   "execution_count": null,
   "id": "eb39f90b-7941-4f53-8f35-5b138cffc5ed",
   "metadata": {},
   "outputs": [],
   "source": [
    "check_time = df_1[[\"user\", \"t\"]]\n",
    "check_time.head(2)\n",
    "check_time[\"converted_time\"] = pd.to_datetime(check_time.t, unit=\"ms\")\n",
    "check_time.head()\n",
    "check_time = check_time.sort_values([\"user\",\"converted_time\"])\n",
    "check_time.head(2)\n",
    "check_time[\"time_diff\"] = check_time.groupby(\"user\")[\"converted_time\"].diff()\n",
    "\n",
    "check_time = check_time.sort_values([\"user\",\"t\"])\n",
    "check_time[\"time_diff_right\"] = check_time.groupby(\"user\")[\"t\"].diff()\n",
    "\n",
    "t = 0.02 # кол-во секунд\n",
    "strange_time = check_time[check_time.time_diff_right <= (t * 1000)].reset_index()\n",
    "strange_time.drop_duplicates(inplace=True)\n"
   ]
  },
  {
   "cell_type": "code",
   "execution_count": 87,
   "id": "e559d445-b12f-412d-b2f5-9dff29f42818",
   "metadata": {},
   "outputs": [
    {
     "data": {
      "text/plain": [
       "array([ 1971,  5253, 16618, 23344, 30545, 35721, 37453, 40343, 57723,\n",
       "       58842, 59605, 67263, 76018, 83725, 87326, 90418, 91887, 93035])"
      ]
     },
     "execution_count": 87,
     "metadata": {},
     "output_type": "execute_result"
    }
   ],
   "source": [
    "suspected_users = np.array(strange_time.user.unique())\n",
    "suspected_users"
   ]
  },
  {
   "cell_type": "code",
   "execution_count": 88,
   "id": "738220e7-feca-48b9-b67a-dcb7901aed57",
   "metadata": {},
   "outputs": [],
   "source": [
    "# Блокируем этих юзеров и трафик от них считаем накрученным \n",
    "df = df[~df.user.isin(suspected_users)]"
   ]
  },
  {
   "cell_type": "code",
   "execution_count": 89,
   "id": "aa5662af-9e0d-4fb6-8db4-bf63b89885d9",
   "metadata": {},
   "outputs": [],
   "source": [
    "df_1 = df_1[~df_1.show_cnt.isin(np.array(range(30)))]\n",
    "df_1 = df_1[df_1[\"click_rate%\"] > 8]\n",
    "df_1 = df_1.user.unique()"
   ]
  },
  {
   "cell_type": "code",
   "execution_count": 90,
   "id": "4e71345f-7096-426c-9a02-66d59c16f5a6",
   "metadata": {},
   "outputs": [],
   "source": [
    "df = df[~df.user.isin(df_1)]"
   ]
  },
  {
   "cell_type": "code",
   "execution_count": 91,
   "id": "15d32b42-ef33-46d1-b979-c480eb71ac53",
   "metadata": {},
   "outputs": [
    {
     "data": {
      "text/plain": [
       "Text(0, 0.5, '')"
      ]
     },
     "execution_count": 91,
     "metadata": {},
     "output_type": "execute_result"
    },
    {
     "data": {
      "image/png": "[encoded data removed]",
      "text/plain": [
       "<Figure size 640x480 with 1 Axes>"
      ]
     },
     "metadata": {},
     "output_type": "display_data"
    }
   ],
   "source": [
    "ax = df.tn.value_counts(normalize=True).plot.pie(title=\"Конверсия\", labels=[\"Не перешли\", \"Перешли\"], autopct='%1.1f%%', cmap='tab20')\n",
    "ax.set_ylabel('')"
   ]
  },
  {
   "cell_type": "code",
   "execution_count": null,
   "id": "e2e6a8a8-baf9-4c12-b44c-b7497b35c785",
   "metadata": {},
   "outputs": [],
   "source": []
  }
 ],
 "metadata": {
  "kernelspec": {
   "display_name": "Python 3 (ipykernel)",
   "language": "python",
   "name": "python3"
  },
  "language_info": {
   "codemirror_mode": {
    "name": "ipython",
    "version": 3
   },
   "file_extension": ".py",
   "mimetype": "text/x-python",
   "name": "python",
   "nbconvert_exporter": "python",
   "pygments_lexer": "ipython3",
   "version": "3.12.2"
  }
 },
 "nbformat": 4,
 "nbformat_minor": 5
}
